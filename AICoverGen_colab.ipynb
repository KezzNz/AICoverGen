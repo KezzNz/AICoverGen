{
  "cells": [
    {
      "cell_type": "markdown",
      "metadata": {
        "id": "39k2mOCNAh6J"
      },
      "source": [
        "[![Open In Colab](https://colab.research.google.com/assets/colab-badge.svg)](https://colab.research.google.com/github/SociallyIneptWeeb/AICoverGen/blob/main/AICoverGen_colab.ipynb)"
      ]
    },
    {
      "cell_type": "markdown",
      "source": [
        "# AICoverGen WebUI\n",
        "\n",
        "Simply click `Runtime` in the top navigation bar and `Run all`. Wait for the output of the final cell to show the public gradio url and click on it."
      ],
      "metadata": {
        "id": "YYVAKuNBc-X4"
      }
    },
    {
      "cell_type": "code",
      "execution_count": 6,
      "metadata": {
        "id": "vC4gLMHI9xb3",
        "cellView": "form",
        "outputId": "9a9bcf47-f821-42c0-99b2-bb6efb532e06",
        "colab": {
          "base_uri": "https://localhost:8080/"
        }
      },
      "outputs": [
        {
          "output_type": "stream",
          "name": "stdout",
          "text": [
            "Done Cloning Repository\n"
          ]
        }
      ],
      "source": [
        "#@title Clone repository\n",
        "from IPython.display import clear_output, Javascript\n",
        "import codecs\n",
        "import threading\n",
        "import time\n",
        "cloneing=codecs.decode('uggcf://tvguho.pbz/FbpvnyylVarcgJrro/NVPbireTra.tvg','rot_13')\n",
        "!git clone $cloneing HRVC\n",
        "def update_timer_and_print():\n",
        "    global timer\n",
        "    while True:\n",
        "        hours, remainder = divmod(timer, 3600)\n",
        "        minutes, seconds = divmod(remainder, 60)\n",
        "        timer_str = f'{hours:02}:{minutes:02}:{seconds:02}'\n",
        "        print(f'\\rTimer: {timer_str}', end='', flush=True)  # Print without a newline\n",
        "        time.sleep(1)\n",
        "        timer += 1\n",
        "timer = 0\n",
        "threading.Thread(target=update_timer_and_print, daemon=True).start()\n",
        "%cd HRVC\n",
        "clear_output()\n",
        "print(\"Done Cloning Repository\")"
      ]
    },
    {
      "cell_type": "code",
      "execution_count": 2,
      "metadata": {
        "id": "odzpJHpr_PaF",
        "outputId": "8f58a06a-01f1-405f-e11b-f04a9d0caa8a",
        "colab": {
          "base_uri": "https://localhost:8080/"
        }
      },
      "outputs": [
        {
          "output_type": "stream",
          "name": "stdout",
          "text": [
            "Finished running this cell, proceed to the next cell\n"
          ]
        }
      ],
      "source": [
        "#@title Install requirements\n",
        "!pip install pip\n",
        "!pip install -q -r requirements.txt\n",
        "!pip install gradio-client\n",
        "!pip install gradio\n",
        "# install cuda fix\n",
        "!python -m pip install ort-nightly-gpu --index-url=https://aiinfra.pkgs.visualstudio.com/PublicPackages/_packaging/ort-cuda-12-nightly/pypi/simple/\n",
        "clear_output()\n",
        "print(\"Finished Installing Requirements\")\n",
        "!sudo apt update\n",
        "clear_output()\n",
        "print(\"Finished Updating\")\n",
        "!sudo apt install sox\n",
        "clear_output()\n",
        "print(\"Finished running this cell, proceed to the next cell\")"
      ]
    },
    {
      "cell_type": "code",
      "execution_count": 5,
      "metadata": {
        "cellView": "form",
        "id": "SLWpcJc0AHSZ",
        "outputId": "67aa8606-1e90-46cc-9b0b-c6cb2b8cfd92",
        "colab": {
          "base_uri": "https://localhost:8080/"
        }
      },
      "outputs": [
        {
          "output_type": "stream",
          "name": "stdout",
          "text": [
            "Finished Downloading Voice Separation Model and Hubert Base Model\n"
          ]
        }
      ],
      "source": [
        "#@title Download MDXNet Vocal Separation and Hubert Base Models\n",
        "models=codecs.decode('fep/qbjaybnq_zbqryf.cl','rot_13')\n",
        "!python $models\n",
        "clear_output()\n",
        "print(\"Finished Downloading Voice Separation Model and Hubert Base Model\")"
      ]
    },
    {
      "cell_type": "code",
      "source": [
        "#@title Run WebUI\n",
        "runpice=codecs.decode('fep/jrohv.cl','rot_13')\n",
        "!python $runpice --share"
      ],
      "metadata": {
        "cellView": "form",
        "id": "NEglTq6Ya9d0",
        "outputId": "275c786f-9152-4af7-9b69-736accafaf16",
        "colab": {
          "base_uri": "https://localhost:8080/"
        }
      },
      "execution_count": 4,
      "outputs": [
        {
          "output_type": "stream",
          "name": "stdout",
          "text": [
            "Timer: 00:00:58Traceback (most recent call last):\n",
            "  File \"/content/HRVC/src/webui.py\", line 8, in <module>\n",
            "    import gradio as gr\n",
            "  File \"/usr/local/lib/python3.11/dist-packages/gradio/__init__.py\", line 3, in <module>\n",
            "    import gradio._simple_templates\n",
            "  File \"/usr/local/lib/python3.11/dist-packages/gradio/_simple_templates/__init__.py\", line 1, in <module>\n",
            "    from .simpledropdown import SimpleDropdown\n",
            "  File \"/usr/local/lib/python3.11/dist-packages/gradio/_simple_templates/simpledropdown.py\", line 7, in <module>\n",
            "    from gradio.components.base import Component, FormComponent\n",
            "  File \"/usr/local/lib/python3.11/dist-packages/gradio/components/__init__.py\", line 13, in <module>\n",
            "    from gradio.components.button import Button\n",
            "  File \"/usr/local/lib/python3.11/dist-packages/gradio/components/button.py\", line 20, in <module>\n",
            "    class Button(Component):\n",
            "  File \"/usr/local/lib/python3.11/dist-packages/gradio/component_meta.py\", line 228, in __new__\n",
            "    create_or_modify_pyi(component_class, name, events)\n",
            "  File \"/usr/local/lib/python3.11/dist-packages/gradio/component_meta.py\", line 123, in create_or_modify_pyi\n",
            "    new_interface = create_pyi(current_impl, events)\n",
            "                    ^^^^^^^^^^^^^^^^^^^^^^^^^^^^^^^^\n",
            "  File \"/usr/local/lib/python3.11/dist-packages/gradio/component_meta.py\", line 84, in create_pyi\n",
            "    template = Template(INTERFACE_TEMPLATE)\n",
            "               ^^^^^^^^^^^^^^^^^^^^^^^^^^^^\n",
            "  File \"/usr/local/lib/python3.11/dist-packages/jinja2/environment.py\", line 1214, in __new__\n",
            "    return env.from_string(source, template_class=cls)\n",
            "           ^^^^^^^^^^^^^^^^^^^^^^^^^^^^^^^^^^^^^^^^^^^\n",
            "  File \"/usr/local/lib/python3.11/dist-packages/jinja2/environment.py\", line 1111, in from_string\n",
            "    return cls.from_code(self, self.compile(source), gs, None)\n",
            "                               ^^^^^^^^^^^^^^^^^^^^\n",
            "  File \"/usr/local/lib/python3.11/dist-packages/jinja2/environment.py\", line 763, in compile\n",
            "    source = self._parse(source, name, filename)\n",
            "             ^^^^^^^^^^^^^^^^^^^^^^^^^^^^^^^^^^^\n",
            "  File \"/usr/local/lib/python3.11/dist-packages/jinja2/environment.py\", line 622, in _parse\n",
            "    return Parser(self, source, name, filename).parse()\n",
            "           ^^^^^^^^^^^^^^^^^^^^^^^^^^^^^^^^^^^^^^^^^^^^\n",
            "  File \"/usr/local/lib/python3.11/dist-packages/jinja2/parser.py\", line 1047, in parse\n",
            "    result = nodes.Template(self.subparse(), lineno=1)\n",
            "                            ^^^^^^^^^^^^^^^\n",
            "  File \"/usr/local/lib/python3.11/dist-packages/jinja2/parser.py\", line 1030, in subparse\n",
            "    rv = self.parse_statement()\n",
            "         ^^^^^^^^^^^^^^^^^^^^^^\n",
            "  File \"/usr/local/lib/python3.11/dist-packages/jinja2/parser.py\", line 177, in parse_statement\n",
            "    return f()  # type: ignore\n",
            "           ^^^\n",
            "  File \"/usr/local/lib/python3.11/dist-packages/jinja2/parser.py\", line 248, in parse_for\n",
            "    body = self.parse_statements((\"name:endfor\", \"name:else\"))\n",
            "           ^^^^^^^^^^^^^^^^^^^^^^^^^^^^^^^^^^^^^^^^^^^^^^^^^^^\n",
            "  File \"/usr/local/lib/python3.11/dist-packages/jinja2/parser.py\", line 214, in parse_statements\n",
            "    result = self.subparse(end_tokens)\n",
            "             ^^^^^^^^^^^^^^^^^^^^^^^^^\n",
            "  File \"/usr/local/lib/python3.11/dist-packages/jinja2/parser.py\", line 1035, in subparse\n",
            "    self.stream.expect(\"block_end\")\n",
            "  File \"/usr/local/lib/python3.11/dist-packages/jinja2/lexer.py\", line 425, in expect\n",
            "    return next(self)\n",
            "           ^^^^^^^^^^\n",
            "  File \"/usr/local/lib/python3.11/dist-packages/jinja2/lexer.py\", line 391, in __next__\n",
            "    self.current = next(self._iter)\n",
            "                   ^^^^^^^^^^^^^^^^\n",
            "  File \"/usr/local/lib/python3.11/dist-packages/jinja2/lexer.py\", line 624, in wrap\n",
            "    for lineno, token, value_str in stream:\n",
            "  File \"/usr/local/lib/python3.11/dist-packages/jinja2/lexer.py\", line 706, in tokeniter\n",
            "    m = regex.match(source, pos)\n",
            "        ^^^^^^^^^^^^^^^^^^^^^^^^\n",
            "KeyboardInterrupt\n",
            "^C\n"
          ]
        }
      ]
    }
  ],
  "metadata": {
    "accelerator": "GPU",
    "colab": {
      "provenance": []
    },
    "kernelspec": {
      "display_name": "Python 3",
      "name": "python3"
    },
    "language_info": {
      "name": "python"
    }
  },
  "nbformat": 4,
  "nbformat_minor": 0
}